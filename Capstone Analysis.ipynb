{
 "cells": [
  {
   "cell_type": "markdown",
   "id": "2ded419c-da90-4eae-a3ba-3b894fd49774",
   "metadata": {},
   "source": [
    "## Machine Learning for predicting Avalanche Danger Levels\n"
   ]
  },
  {
   "cell_type": "code",
   "execution_count": 2,
   "id": "23f04c1e-fd27-4cad-8f4a-bae8437b51e9",
   "metadata": {
    "tags": []
   },
   "outputs": [],
   "source": [
    "#Defining some functions\n",
    "def apr(y_pred, y_real):\n",
    "\n",
    "    class_difference = (y_pred - y_real)\n",
    "    class_difference_df = pd.DataFrame({'y_pred': y_pred, 'y_real': y_real, 'abs_difference': class_difference})\n",
    "    # Define weights based on the class difference\n",
    "    weights = [5 if diff >= 2 else (2 if diff < 0 else 1) for diff in class_difference]\n",
    "    \n",
    "    accuracy = metrics.accuracy_score(y_real, y_pred)\n",
    "    precision = metrics.precision_score(y_real, y_pred,average='weighted', sample_weight=weights)\n",
    "    recall = metrics.recall_score(y_real, y_pred,average='weighted', sample_weight=weights)\n",
    "    f1 = metrics.f1_score(y_real, y_pred,average='weighted',sample_weight=weights)\n",
    "    \n",
    "    print(f\"Accuracy:{accuracy}\")\n",
    "    print(f\"Precision:{precision}\")\n",
    "    print(f\"Recall:{recall}\")\n",
    "    print(f\"F1:{f1}\")\n",
    "    return accuracy, precision, recall, f1\n",
    "\n",
    "def apr2(y_pred, y_real):\n",
    "\n",
    "    class_difference = (y_pred - y_real)\n",
    "    class_difference_df = pd.DataFrame({'y_pred': y_pred, 'y_real': y_real, 'abs_difference': class_difference})\n",
    "    weights = [5 if diff >= 2 else (2 if diff < 0 else 1) for diff in class_difference]\n",
    "    \n",
    "    accuracy = metrics.accuracy_score(y_real, y_pred)\n",
    "    precision = metrics.precision_score(y_real, y_pred,average='micro', sample_weight=weights)\n",
    "    recall = metrics.recall_score(y_real, y_pred,average='micro', sample_weight=weights)\n",
    "    f1 = metrics.f1_score(y_real, y_pred,average='micro',sample_weight=weights)\n",
    "    \n",
    "    print(f\"Accuracy:{accuracy}\")\n",
    "    print(f\"Precision:{precision}\")\n",
    "    print(f\"Recall:{recall}\")\n",
    "    print(f\"F1:{f1}\")\n",
    "    return accuracy, precision, recall, f1\n",
    "\n",
    "def produce_confusion(positive_label:str, negative_label:str, cut_off, df, y_pred_name, y_real_name):\n",
    "     \n",
    "    if cut_off != 'binary':      \n",
    "        df['pred_binary'] = np.where(df[y_pred_name] > cut_off , 1, 0)\n",
    "    else: \n",
    "        df['pred_binary'] = df[y_pred_name]\n",
    "    \n",
    "    #Build the CM\n",
    "    cm = confusion_matrix(df[y_real_name], df['pred_binary'])  \n",
    "    \n",
    "    ax= plt.subplot()\n",
    "    sns.heatmap(cm, annot=True, ax=ax, fmt='g'); \n",
    "\n",
    "    # labels, title, ticks\n",
    "    ax.set_xlabel('Predicted labels');ax.set_ylabel('Real labels'); \n",
    "    ax.set_title('Confusion Matrix'); \n",
    "    ax.xaxis.set_ticklabels([negative_label, positive_label])\n",
    "    ax.yaxis.set_ticklabels([negative_label, positive_label]);\n",
    "\n",
    "    print('Test accuracy = ', accuracy_score(df[y_real_name], df['pred_binary']))\n",
    "\n",
    "    return accuracy_score(df[y_real_name], df['pred_binary'])"
   ]
  },
  {
   "cell_type": "markdown",
   "id": "c058ba9b-c97b-4c59-9e13-03935f3944d4",
   "metadata": {},
   "source": [
    "## 1. Decision Tree Algorithm"
   ]
  },
  {
   "cell_type": "code",
   "execution_count": 3,
   "id": "3e365335-e8f4-4606-9548-3f3401c42d73",
   "metadata": {
    "tags": []
   },
   "outputs": [],
   "source": [
    "df = pd.read_csv(\"avalanche_data.csv\")"
   ]
  },
  {
   "cell_type": "code",
   "execution_count": 4,
   "id": "9e2d0a95-4bb1-4772-af12-2861a1b0e871",
   "metadata": {
    "tags": []
   },
   "outputs": [],
   "source": [
    "df.drop(columns=['set','TS4_mean', 'TS3_mean','MS_Soil_Runoff_mean','mAlbedo_mean','Qg_mean'], inplace = True)"
   ]
  },
  {
   "cell_type": "code",
   "execution_count": null,
   "id": "e539de70-d227-4e63-ace9-32d16e657265",
   "metadata": {
    "scrolled": true,
    "tags": []
   },
   "outputs": [],
   "source": [
    "df.info()"
   ]
  },
  {
   "cell_type": "code",
   "execution_count": 6,
   "id": "1fbb6a31-5c1d-4029-9117-6f9942e7a240",
   "metadata": {
    "tags": []
   },
   "outputs": [],
   "source": [
    "df.drop_duplicates(inplace=True)"
   ]
  },
  {
   "cell_type": "code",
   "execution_count": 7,
   "id": "067d6047-4937-46bf-bc84-f37bacb6d3ed",
   "metadata": {
    "tags": []
   },
   "outputs": [],
   "source": [
    "feature_cols = list(df.columns)\n",
    "feature_cols.remove('dangerLevel')"
   ]
  },
  {
   "cell_type": "code",
   "execution_count": 8,
   "id": "9b8a0794-c6ba-49ac-bd48-4a2e35399de2",
   "metadata": {
    "tags": []
   },
   "outputs": [],
   "source": [
    "X = df[feature_cols]\n",
    "y = df['dangerLevel']"
   ]
  },
  {
   "cell_type": "code",
   "execution_count": null,
   "id": "68d1ace8-65fd-4597-83e5-2872dbef1b62",
   "metadata": {
    "tags": []
   },
   "outputs": [],
   "source": [
    "sns.displot(df['dangerLevel'])\n",
    "plt.show()"
   ]
  },
  {
   "cell_type": "code",
   "execution_count": 10,
   "id": "64b92dac-1774-426b-9c4f-60a8e8747ba5",
   "metadata": {
    "tags": []
   },
   "outputs": [],
   "source": [
    "X_train, X_test, y_train, y_test = train_test_split(X, y, test_size = 0.2, random_state = 42)"
   ]
  },
  {
   "cell_type": "code",
   "execution_count": 11,
   "id": "fc68d66e-a2fc-406d-b711-e36c5e623f8d",
   "metadata": {
    "tags": []
   },
   "outputs": [],
   "source": [
    "train = X_train"
   ]
  },
  {
   "cell_type": "code",
   "execution_count": 12,
   "id": "0dd7c8d6-c977-4ca1-82f4-01f48c38d808",
   "metadata": {
    "tags": []
   },
   "outputs": [],
   "source": [
    "train = pd.concat([X_train, y_train], axis=1)"
   ]
  },
  {
   "cell_type": "code",
   "execution_count": 13,
   "id": "55e0635b-e7bc-4f3b-8fa7-f1587bd3409f",
   "metadata": {
    "tags": []
   },
   "outputs": [],
   "source": [
    "train.rename(columns={'Unnamed: 0': 'ID'}, inplace=True)"
   ]
  },
  {
   "cell_type": "code",
   "execution_count": 14,
   "id": "e0fb8ca9-a0cd-472e-bf8a-3603231fd26f",
   "metadata": {
    "tags": []
   },
   "outputs": [],
   "source": [
    "dt = DecisionTreeClassifier()"
   ]
  },
  {
   "cell_type": "code",
   "execution_count": 15,
   "id": "65288867-9482-43e0-a658-108a71491c12",
   "metadata": {
    "tags": []
   },
   "outputs": [],
   "source": [
    "train.dropna(inplace=True)"
   ]
  },
  {
   "cell_type": "code",
   "execution_count": 16,
   "id": "71dc4ad6-91fc-4cbb-b7ed-698bec643e0f",
   "metadata": {
    "tags": []
   },
   "outputs": [],
   "source": [
    "X_train = train.drop(columns = ['ID','datum','station_code','dangerLevel'])"
   ]
  },
  {
   "cell_type": "code",
   "execution_count": 17,
   "id": "d0f46de0-f3ec-4fec-924d-a65aa9f7d43d",
   "metadata": {
    "tags": []
   },
   "outputs": [],
   "source": [
    "feature_cols = list(X_train.columns)"
   ]
  },
  {
   "cell_type": "code",
   "execution_count": 18,
   "id": "dd46a164-9070-4fe3-af74-9f305ad1826a",
   "metadata": {
    "tags": []
   },
   "outputs": [],
   "source": [
    "y_train = train['dangerLevel']"
   ]
  },
  {
   "cell_type": "code",
   "execution_count": null,
   "id": "37142431-bf17-47a2-8beb-1c7250ca4fc4",
   "metadata": {
    "tags": []
   },
   "outputs": [],
   "source": [
    "dt.fit(X_train, y_train)"
   ]
  },
  {
   "cell_type": "code",
   "execution_count": 20,
   "id": "134fbf9c-2d5c-4d3d-9d84-4744cb7f0e10",
   "metadata": {
    "tags": []
   },
   "outputs": [],
   "source": [
    "grid = GridSearchCV(estimator = DecisionTreeClassifier(),\n",
    "                    param_grid = {'max_depth': [ 10, 26,40],\n",
    "                                  'min_samples_split': [1,10,3,5],\n",
    "                                  'min_samples_leaf': [ 10, 12, 20],\n",
    "                                  'max_features':[26,10,7]},\n",
    "                    cv = 10,\n",
    "                    refit = True,\n",
    "                    verbose = 2,\n",
    "                    scoring = 'accuracy')"
   ]
  },
  {
   "cell_type": "code",
   "execution_count": null,
   "id": "84fced95-9980-470d-9a9b-9a78fd83e34b",
   "metadata": {
    "scrolled": true,
    "tags": []
   },
   "outputs": [],
   "source": [
    "try:\n",
    "    grid.fit(X_train, y_train)\n",
    "except:\n",
    "    print(\"Grid incomplete\")"
   ]
  },
  {
   "cell_type": "code",
   "execution_count": 22,
   "id": "adefed78-1f0f-4a8e-b911-cb84dc8e62eb",
   "metadata": {
    "tags": []
   },
   "outputs": [
    {
     "name": "stdout",
     "output_type": "stream",
     "text": [
      "DecisionTreeClassifier(max_depth=10, max_features=26, min_samples_leaf=10,\n",
      "                       min_samples_split=10)\n"
     ]
    }
   ],
   "source": [
    "try:\n",
    "    print(grid.best_estimator_)\n",
    "except:\n",
    "    print(\"Grid incomplete\")"
   ]
  },
  {
   "cell_type": "code",
   "execution_count": 23,
   "id": "ea770500-5e4e-4fef-82b4-556592a06d47",
   "metadata": {
    "tags": []
   },
   "outputs": [],
   "source": [
    "dt = DecisionTreeClassifier(max_depth=10, max_features=26, min_samples_leaf=10,\n",
    "                       min_samples_split=10)"
   ]
  },
  {
   "cell_type": "code",
   "execution_count": null,
   "id": "f824da8b-b8a1-43da-802b-310dcea835d5",
   "metadata": {
    "tags": []
   },
   "outputs": [],
   "source": [
    "dt.fit(X_train, y_train)"
   ]
  },
  {
   "cell_type": "code",
   "execution_count": 25,
   "id": "5bdbbe66-9462-49db-9dbd-bee40cd7b6b6",
   "metadata": {
    "tags": []
   },
   "outputs": [],
   "source": [
    "importance = list(zip(feature_cols, list(dt.feature_importances_)))"
   ]
  },
  {
   "cell_type": "code",
   "execution_count": 26,
   "id": "aac197f2-6acf-4d89-9983-53ddb72c6c7d",
   "metadata": {
    "tags": []
   },
   "outputs": [],
   "source": [
    "filtered_importance = [(name, value) for name, value in importance if value > 0.01]"
   ]
  },
  {
   "cell_type": "code",
   "execution_count": 27,
   "id": "c7136678-38fd-46dd-97f5-c73eae5c574b",
   "metadata": {
    "tags": []
   },
   "outputs": [
    {
     "data": {
      "text/plain": [
       "[('elevation_th', 0.22624494782502255),\n",
       " ('warnreg', 0.01410469484715828),\n",
       " ('VW', 0.012057077243624592),\n",
       " ('wind_trans24', 0.012548393006966327),\n",
       " ('wind_trans24_3d', 0.02639340269600774),\n",
       " ('HN24', 0.09695737452627455),\n",
       " ('HN72_24', 0.03335717473027052),\n",
       " ('HN24_7d', 0.06382649146572211),\n",
       " ('Pen_depth', 0.29729790642901094),\n",
       " ('min_ccl_pen', 0.05751266573838051)]"
      ]
     },
     "execution_count": 27,
     "metadata": {},
     "output_type": "execute_result"
    }
   ],
   "source": [
    "filtered_importance"
   ]
  },
  {
   "cell_type": "code",
   "execution_count": 28,
   "id": "253a1693-0674-4dcb-8644-45d1f3480cb2",
   "metadata": {
    "tags": []
   },
   "outputs": [],
   "source": [
    "important_columns = [item[0] for item in filtered_importance]\n",
    "\n",
    "X_train2 = X_train[[col for col in X_train.columns if col in important_columns]]"
   ]
  },
  {
   "cell_type": "code",
   "execution_count": 29,
   "id": "2c4b3077-ae73-46fb-b92d-64dea85cb768",
   "metadata": {},
   "outputs": [],
   "source": [
    "grid = GridSearchCV(estimator = DecisionTreeClassifier(),\n",
    "                    param_grid = {'max_depth': [ 5, 10, 15],\n",
    "                                  'min_samples_split': [1,2,3,5],\n",
    "                                  'min_samples_leaf': [ 6, 12, 24],\n",
    "                                  'max_features':[26,10,7]},\n",
    "                    cv = 10,\n",
    "                    refit = True,\n",
    "                    verbose = 2,\n",
    "                    scoring = 'accuracy')"
   ]
  },
  {
   "cell_type": "code",
   "execution_count": null,
   "id": "dced6220-5f55-437d-9169-96f46cc1f6fb",
   "metadata": {
    "scrolled": true,
    "tags": []
   },
   "outputs": [],
   "source": [
    "try:\n",
    "    grid.fit(X_train2, y_train)\n",
    "except:\n",
    "    print(\"Grid incomplete\")"
   ]
  },
  {
   "cell_type": "code",
   "execution_count": 31,
   "id": "fe429749-f60f-4315-8b99-31c2d8dd9c43",
   "metadata": {
    "tags": []
   },
   "outputs": [
    {
     "name": "stdout",
     "output_type": "stream",
     "text": [
      "DecisionTreeClassifier(max_depth=15, max_features=26, min_samples_leaf=24,\n",
      "                       min_samples_split=3)\n"
     ]
    }
   ],
   "source": [
    "try:\n",
    "    print(grid.best_estimator_)\n",
    "except:\n",
    "    print(\"Grid incomplete\")"
   ]
  },
  {
   "cell_type": "code",
   "execution_count": 46,
   "id": "831aed25-0bbb-4540-b865-d8eb76c8acd1",
   "metadata": {
    "tags": []
   },
   "outputs": [],
   "source": [
    "dt = DecisionTreeClassifier(max_depth=10, max_features=26, min_samples_leaf=12,\n",
    "                       min_samples_split=3)"
   ]
  },
  {
   "cell_type": "code",
   "execution_count": null,
   "id": "df7c69ef-7ed8-47cc-a85f-0fc1c175a262",
   "metadata": {
    "tags": []
   },
   "outputs": [],
   "source": [
    "dt.fit(X_train2, y_train)"
   ]
  },
  {
   "cell_type": "code",
   "execution_count": 48,
   "id": "52569605-0aae-4e10-9bfc-5b784c1ab802",
   "metadata": {
    "tags": []
   },
   "outputs": [
    {
     "data": {
      "text/html": [
       "<div>\n",
       "<style scoped>\n",
       "    .dataframe tbody tr th:only-of-type {\n",
       "        vertical-align: middle;\n",
       "    }\n",
       "\n",
       "    .dataframe tbody tr th {\n",
       "        vertical-align: top;\n",
       "    }\n",
       "\n",
       "    .dataframe thead th {\n",
       "        text-align: right;\n",
       "    }\n",
       "</style>\n",
       "<table border=\"1\" class=\"dataframe\">\n",
       "  <thead>\n",
       "    <tr style=\"text-align: right;\">\n",
       "      <th></th>\n",
       "      <th>elevation_th</th>\n",
       "      <th>warnreg</th>\n",
       "      <th>VW</th>\n",
       "      <th>wind_trans24</th>\n",
       "      <th>wind_trans24_3d</th>\n",
       "      <th>HN24</th>\n",
       "      <th>HN72_24</th>\n",
       "      <th>HN24_7d</th>\n",
       "      <th>Pen_depth</th>\n",
       "      <th>min_ccl_pen</th>\n",
       "      <th>y_pred</th>\n",
       "      <th>y_real</th>\n",
       "      <th>y_prob</th>\n",
       "    </tr>\n",
       "  </thead>\n",
       "  <tbody>\n",
       "    <tr>\n",
       "      <th>9293</th>\n",
       "      <td>1500.0</td>\n",
       "      <td>17</td>\n",
       "      <td>0.3750</td>\n",
       "      <td>0.63125</td>\n",
       "      <td>14.90</td>\n",
       "      <td>0.000000</td>\n",
       "      <td>1.873500</td>\n",
       "      <td>8.59</td>\n",
       "      <td>18.290832</td>\n",
       "      <td>0.51</td>\n",
       "      <td>1</td>\n",
       "      <td>1</td>\n",
       "      <td>0.000000</td>\n",
       "    </tr>\n",
       "    <tr>\n",
       "      <th>8819</th>\n",
       "      <td>2100.0</td>\n",
       "      <td>17</td>\n",
       "      <td>1.8125</td>\n",
       "      <td>0.00000</td>\n",
       "      <td>41.59</td>\n",
       "      <td>0.000000</td>\n",
       "      <td>7.880625</td>\n",
       "      <td>77.49</td>\n",
       "      <td>21.927825</td>\n",
       "      <td>0.29</td>\n",
       "      <td>2</td>\n",
       "      <td>3</td>\n",
       "      <td>0.516746</td>\n",
       "    </tr>\n",
       "    <tr>\n",
       "      <th>10505</th>\n",
       "      <td>2000.0</td>\n",
       "      <td>18</td>\n",
       "      <td>2.0250</td>\n",
       "      <td>0.00000</td>\n",
       "      <td>57.78</td>\n",
       "      <td>0.000000</td>\n",
       "      <td>6.381875</td>\n",
       "      <td>43.98</td>\n",
       "      <td>17.193592</td>\n",
       "      <td>0.37</td>\n",
       "      <td>2</td>\n",
       "      <td>2</td>\n",
       "      <td>0.573529</td>\n",
       "    </tr>\n",
       "    <tr>\n",
       "      <th>7671</th>\n",
       "      <td>1500.0</td>\n",
       "      <td>16</td>\n",
       "      <td>4.7000</td>\n",
       "      <td>0.00000</td>\n",
       "      <td>0.00</td>\n",
       "      <td>0.000000</td>\n",
       "      <td>0.000000</td>\n",
       "      <td>18.96</td>\n",
       "      <td>14.242812</td>\n",
       "      <td>0.50</td>\n",
       "      <td>1</td>\n",
       "      <td>1</td>\n",
       "      <td>0.000000</td>\n",
       "    </tr>\n",
       "    <tr>\n",
       "      <th>2361</th>\n",
       "      <td>2000.0</td>\n",
       "      <td>15</td>\n",
       "      <td>1.6875</td>\n",
       "      <td>0.00000</td>\n",
       "      <td>0.00</td>\n",
       "      <td>0.000000</td>\n",
       "      <td>0.000000</td>\n",
       "      <td>10.22</td>\n",
       "      <td>16.614043</td>\n",
       "      <td>0.23</td>\n",
       "      <td>2</td>\n",
       "      <td>2</td>\n",
       "      <td>0.750000</td>\n",
       "    </tr>\n",
       "    <tr>\n",
       "      <th>...</th>\n",
       "      <td>...</td>\n",
       "      <td>...</td>\n",
       "      <td>...</td>\n",
       "      <td>...</td>\n",
       "      <td>...</td>\n",
       "      <td>...</td>\n",
       "      <td>...</td>\n",
       "      <td>...</td>\n",
       "      <td>...</td>\n",
       "      <td>...</td>\n",
       "      <td>...</td>\n",
       "      <td>...</td>\n",
       "      <td>...</td>\n",
       "    </tr>\n",
       "    <tr>\n",
       "      <th>21575</th>\n",
       "      <td>2000.0</td>\n",
       "      <td>19</td>\n",
       "      <td>1.5625</td>\n",
       "      <td>0.00000</td>\n",
       "      <td>0.00</td>\n",
       "      <td>0.000000</td>\n",
       "      <td>0.000000</td>\n",
       "      <td>0.00</td>\n",
       "      <td>10.085894</td>\n",
       "      <td>0.77</td>\n",
       "      <td>1</td>\n",
       "      <td>1</td>\n",
       "      <td>0.002157</td>\n",
       "    </tr>\n",
       "    <tr>\n",
       "      <th>5390</th>\n",
       "      <td>1900.0</td>\n",
       "      <td>16</td>\n",
       "      <td>5.4875</td>\n",
       "      <td>0.00000</td>\n",
       "      <td>0.00</td>\n",
       "      <td>22.706625</td>\n",
       "      <td>33.097625</td>\n",
       "      <td>84.31</td>\n",
       "      <td>22.839708</td>\n",
       "      <td>0.26</td>\n",
       "      <td>4</td>\n",
       "      <td>3</td>\n",
       "      <td>0.000000</td>\n",
       "    </tr>\n",
       "    <tr>\n",
       "      <th>860</th>\n",
       "      <td>1500.0</td>\n",
       "      <td>15</td>\n",
       "      <td>4.3375</td>\n",
       "      <td>0.18975</td>\n",
       "      <td>0.93</td>\n",
       "      <td>0.000000</td>\n",
       "      <td>0.000000</td>\n",
       "      <td>1.15</td>\n",
       "      <td>12.721856</td>\n",
       "      <td>0.63</td>\n",
       "      <td>1</td>\n",
       "      <td>1</td>\n",
       "      <td>0.000000</td>\n",
       "    </tr>\n",
       "    <tr>\n",
       "      <th>15795</th>\n",
       "      <td>1500.0</td>\n",
       "      <td>19</td>\n",
       "      <td>1.4000</td>\n",
       "      <td>0.00000</td>\n",
       "      <td>0.00</td>\n",
       "      <td>0.000000</td>\n",
       "      <td>0.000000</td>\n",
       "      <td>0.00</td>\n",
       "      <td>12.892082</td>\n",
       "      <td>0.64</td>\n",
       "      <td>1</td>\n",
       "      <td>1</td>\n",
       "      <td>0.000000</td>\n",
       "    </tr>\n",
       "    <tr>\n",
       "      <th>23654</th>\n",
       "      <td>2100.0</td>\n",
       "      <td>20</td>\n",
       "      <td>0.4875</td>\n",
       "      <td>2.23750</td>\n",
       "      <td>6.53</td>\n",
       "      <td>0.655750</td>\n",
       "      <td>0.655750</td>\n",
       "      <td>2.83</td>\n",
       "      <td>17.405764</td>\n",
       "      <td>0.34</td>\n",
       "      <td>2</td>\n",
       "      <td>2</td>\n",
       "      <td>0.947279</td>\n",
       "    </tr>\n",
       "  </tbody>\n",
       "</table>\n",
       "<p>18079 rows × 13 columns</p>\n",
       "</div>"
      ],
      "text/plain": [
       "       elevation_th  warnreg      VW  wind_trans24  wind_trans24_3d  \\\n",
       "9293         1500.0       17  0.3750       0.63125            14.90   \n",
       "8819         2100.0       17  1.8125       0.00000            41.59   \n",
       "10505        2000.0       18  2.0250       0.00000            57.78   \n",
       "7671         1500.0       16  4.7000       0.00000             0.00   \n",
       "2361         2000.0       15  1.6875       0.00000             0.00   \n",
       "...             ...      ...     ...           ...              ...   \n",
       "21575        2000.0       19  1.5625       0.00000             0.00   \n",
       "5390         1900.0       16  5.4875       0.00000             0.00   \n",
       "860          1500.0       15  4.3375       0.18975             0.93   \n",
       "15795        1500.0       19  1.4000       0.00000             0.00   \n",
       "23654        2100.0       20  0.4875       2.23750             6.53   \n",
       "\n",
       "            HN24    HN72_24  HN24_7d  Pen_depth  min_ccl_pen  y_pred  y_real  \\\n",
       "9293    0.000000   1.873500     8.59  18.290832         0.51       1       1   \n",
       "8819    0.000000   7.880625    77.49  21.927825         0.29       2       3   \n",
       "10505   0.000000   6.381875    43.98  17.193592         0.37       2       2   \n",
       "7671    0.000000   0.000000    18.96  14.242812         0.50       1       1   \n",
       "2361    0.000000   0.000000    10.22  16.614043         0.23       2       2   \n",
       "...          ...        ...      ...        ...          ...     ...     ...   \n",
       "21575   0.000000   0.000000     0.00  10.085894         0.77       1       1   \n",
       "5390   22.706625  33.097625    84.31  22.839708         0.26       4       3   \n",
       "860     0.000000   0.000000     1.15  12.721856         0.63       1       1   \n",
       "15795   0.000000   0.000000     0.00  12.892082         0.64       1       1   \n",
       "23654   0.655750   0.655750     2.83  17.405764         0.34       2       2   \n",
       "\n",
       "         y_prob  \n",
       "9293   0.000000  \n",
       "8819   0.516746  \n",
       "10505  0.573529  \n",
       "7671   0.000000  \n",
       "2361   0.750000  \n",
       "...         ...  \n",
       "21575  0.002157  \n",
       "5390   0.000000  \n",
       "860    0.000000  \n",
       "15795  0.000000  \n",
       "23654  0.947279  \n",
       "\n",
       "[18079 rows x 13 columns]"
      ]
     },
     "execution_count": 48,
     "metadata": {},
     "output_type": "execute_result"
    }
   ],
   "source": [
    "train_results = X_train2.copy()\n",
    "train_results['y_pred'] = dt.predict(X_train2)\n",
    "train_results['y_real'] = y_train\n",
    "train_results['y_prob'] = dt.predict_proba(X_train2)[:,1]\n",
    "\n",
    "train_results"
   ]
  },
  {
   "cell_type": "code",
   "execution_count": 49,
   "id": "08994894-7403-4fb9-b512-89d1581ebf23",
   "metadata": {
    "tags": []
   },
   "outputs": [
    {
     "name": "stdout",
     "output_type": "stream",
     "text": [
      "Accuracy:0.829747220532109\n",
      "Precision:0.750956947030969\n",
      "Recall:0.7437651841935644\n",
      "F1:0.7380728545315868\n"
     ]
    }
   ],
   "source": [
    "train_scores = apr(train_results['y_pred'], train_results['y_real'])"
   ]
  },
  {
   "cell_type": "code",
   "execution_count": 36,
   "id": "52956641-dc89-46c0-8331-49d3638f7c3e",
   "metadata": {
    "tags": []
   },
   "outputs": [],
   "source": [
    "test = X_test"
   ]
  },
  {
   "cell_type": "code",
   "execution_count": 37,
   "id": "8f9d4d0b-3f87-4e93-8059-60874339caf8",
   "metadata": {
    "tags": []
   },
   "outputs": [],
   "source": [
    "test = pd.concat([X_test, y_test], axis=1)"
   ]
  },
  {
   "cell_type": "code",
   "execution_count": 38,
   "id": "90be6634-0a50-4f60-a3ea-286dc81d05a8",
   "metadata": {
    "tags": []
   },
   "outputs": [],
   "source": [
    "test.rename(columns={'Unnamed: 0': 'ID'}, inplace=True)"
   ]
  },
  {
   "cell_type": "code",
   "execution_count": 39,
   "id": "1cb809d3-662b-41f9-8a87-995707db6c83",
   "metadata": {
    "tags": []
   },
   "outputs": [],
   "source": [
    "test.dropna(inplace=True)"
   ]
  },
  {
   "cell_type": "code",
   "execution_count": 40,
   "id": "02dd515a-2ad4-4b58-ae11-92ddd76e6daa",
   "metadata": {
    "tags": []
   },
   "outputs": [],
   "source": [
    "X_test = test.drop(columns = ['ID','datum','station_code','dangerLevel'])"
   ]
  },
  {
   "cell_type": "code",
   "execution_count": 41,
   "id": "86952920-4af8-4104-8f20-9475c0afde4e",
   "metadata": {
    "tags": []
   },
   "outputs": [],
   "source": [
    "X_test2 = X_test[[col for col in X_test.columns if col in important_columns]]"
   ]
  },
  {
   "cell_type": "code",
   "execution_count": 42,
   "id": "a4337c27-465c-4987-8c79-a8c2f6e53e7e",
   "metadata": {
    "tags": []
   },
   "outputs": [],
   "source": [
    "y_test = test['dangerLevel']"
   ]
  },
  {
   "cell_type": "code",
   "execution_count": 51,
   "id": "43db8461-4cb1-499a-8256-54aabe1c3b9f",
   "metadata": {
    "tags": []
   },
   "outputs": [
    {
     "data": {
      "text/html": [
       "<div>\n",
       "<style scoped>\n",
       "    .dataframe tbody tr th:only-of-type {\n",
       "        vertical-align: middle;\n",
       "    }\n",
       "\n",
       "    .dataframe tbody tr th {\n",
       "        vertical-align: top;\n",
       "    }\n",
       "\n",
       "    .dataframe thead th {\n",
       "        text-align: right;\n",
       "    }\n",
       "</style>\n",
       "<table border=\"1\" class=\"dataframe\">\n",
       "  <thead>\n",
       "    <tr style=\"text-align: right;\">\n",
       "      <th></th>\n",
       "      <th>elevation_th</th>\n",
       "      <th>warnreg</th>\n",
       "      <th>VW</th>\n",
       "      <th>wind_trans24</th>\n",
       "      <th>wind_trans24_3d</th>\n",
       "      <th>HN24</th>\n",
       "      <th>HN72_24</th>\n",
       "      <th>HN24_7d</th>\n",
       "      <th>Pen_depth</th>\n",
       "      <th>min_ccl_pen</th>\n",
       "      <th>y_pred</th>\n",
       "      <th>y_real</th>\n",
       "      <th>y_prob</th>\n",
       "    </tr>\n",
       "  </thead>\n",
       "  <tbody>\n",
       "    <tr>\n",
       "      <th>15654</th>\n",
       "      <td>2400.0</td>\n",
       "      <td>19</td>\n",
       "      <td>3.9625</td>\n",
       "      <td>118.136375</td>\n",
       "      <td>154.77</td>\n",
       "      <td>0.00000</td>\n",
       "      <td>0.626250</td>\n",
       "      <td>17.33</td>\n",
       "      <td>18.935396</td>\n",
       "      <td>0.42</td>\n",
       "      <td>3</td>\n",
       "      <td>3</td>\n",
       "      <td>0.111111</td>\n",
       "    </tr>\n",
       "    <tr>\n",
       "      <th>13625</th>\n",
       "      <td>2200.0</td>\n",
       "      <td>19</td>\n",
       "      <td>1.2000</td>\n",
       "      <td>0.876000</td>\n",
       "      <td>5.14</td>\n",
       "      <td>0.00000</td>\n",
       "      <td>8.543750</td>\n",
       "      <td>23.75</td>\n",
       "      <td>19.260345</td>\n",
       "      <td>0.36</td>\n",
       "      <td>2</td>\n",
       "      <td>2</td>\n",
       "      <td>0.743738</td>\n",
       "    </tr>\n",
       "    <tr>\n",
       "      <th>26939</th>\n",
       "      <td>2000.0</td>\n",
       "      <td>20</td>\n",
       "      <td>2.0125</td>\n",
       "      <td>0.000000</td>\n",
       "      <td>0.00</td>\n",
       "      <td>0.00000</td>\n",
       "      <td>0.000000</td>\n",
       "      <td>0.00</td>\n",
       "      <td>7.950065</td>\n",
       "      <td>1.60</td>\n",
       "      <td>1</td>\n",
       "      <td>1</td>\n",
       "      <td>0.002157</td>\n",
       "    </tr>\n",
       "    <tr>\n",
       "      <th>2201</th>\n",
       "      <td>1800.0</td>\n",
       "      <td>15</td>\n",
       "      <td>2.1125</td>\n",
       "      <td>0.000000</td>\n",
       "      <td>34.30</td>\n",
       "      <td>0.00000</td>\n",
       "      <td>11.328000</td>\n",
       "      <td>24.48</td>\n",
       "      <td>19.281109</td>\n",
       "      <td>0.26</td>\n",
       "      <td>2</td>\n",
       "      <td>2</td>\n",
       "      <td>0.573529</td>\n",
       "    </tr>\n",
       "    <tr>\n",
       "      <th>13529</th>\n",
       "      <td>1500.0</td>\n",
       "      <td>19</td>\n",
       "      <td>2.4375</td>\n",
       "      <td>0.000000</td>\n",
       "      <td>2.71</td>\n",
       "      <td>0.00000</td>\n",
       "      <td>0.000000</td>\n",
       "      <td>6.59</td>\n",
       "      <td>16.479940</td>\n",
       "      <td>0.45</td>\n",
       "      <td>1</td>\n",
       "      <td>1</td>\n",
       "      <td>0.000000</td>\n",
       "    </tr>\n",
       "    <tr>\n",
       "      <th>...</th>\n",
       "      <td>...</td>\n",
       "      <td>...</td>\n",
       "      <td>...</td>\n",
       "      <td>...</td>\n",
       "      <td>...</td>\n",
       "      <td>...</td>\n",
       "      <td>...</td>\n",
       "      <td>...</td>\n",
       "      <td>...</td>\n",
       "      <td>...</td>\n",
       "      <td>...</td>\n",
       "      <td>...</td>\n",
       "      <td>...</td>\n",
       "    </tr>\n",
       "    <tr>\n",
       "      <th>1350</th>\n",
       "      <td>1500.0</td>\n",
       "      <td>15</td>\n",
       "      <td>1.2625</td>\n",
       "      <td>0.000000</td>\n",
       "      <td>0.00</td>\n",
       "      <td>0.00000</td>\n",
       "      <td>0.000000</td>\n",
       "      <td>1.00</td>\n",
       "      <td>15.828622</td>\n",
       "      <td>0.29</td>\n",
       "      <td>1</td>\n",
       "      <td>1</td>\n",
       "      <td>0.000000</td>\n",
       "    </tr>\n",
       "    <tr>\n",
       "      <th>13989</th>\n",
       "      <td>2000.0</td>\n",
       "      <td>19</td>\n",
       "      <td>0.7625</td>\n",
       "      <td>0.000000</td>\n",
       "      <td>29.18</td>\n",
       "      <td>0.00000</td>\n",
       "      <td>31.557625</td>\n",
       "      <td>66.27</td>\n",
       "      <td>19.954292</td>\n",
       "      <td>0.37</td>\n",
       "      <td>2</td>\n",
       "      <td>2</td>\n",
       "      <td>0.466667</td>\n",
       "    </tr>\n",
       "    <tr>\n",
       "      <th>16113</th>\n",
       "      <td>2200.0</td>\n",
       "      <td>19</td>\n",
       "      <td>7.1625</td>\n",
       "      <td>1.483000</td>\n",
       "      <td>21.22</td>\n",
       "      <td>0.98750</td>\n",
       "      <td>7.041750</td>\n",
       "      <td>30.43</td>\n",
       "      <td>17.005411</td>\n",
       "      <td>0.37</td>\n",
       "      <td>3</td>\n",
       "      <td>2</td>\n",
       "      <td>0.185185</td>\n",
       "    </tr>\n",
       "    <tr>\n",
       "      <th>17542</th>\n",
       "      <td>1900.0</td>\n",
       "      <td>19</td>\n",
       "      <td>1.6000</td>\n",
       "      <td>26.253500</td>\n",
       "      <td>126.86</td>\n",
       "      <td>6.07275</td>\n",
       "      <td>35.517625</td>\n",
       "      <td>65.53</td>\n",
       "      <td>28.729350</td>\n",
       "      <td>0.15</td>\n",
       "      <td>3</td>\n",
       "      <td>4</td>\n",
       "      <td>0.044444</td>\n",
       "    </tr>\n",
       "    <tr>\n",
       "      <th>28985</th>\n",
       "      <td>2000.0</td>\n",
       "      <td>21</td>\n",
       "      <td>1.6375</td>\n",
       "      <td>0.000000</td>\n",
       "      <td>0.00</td>\n",
       "      <td>0.00000</td>\n",
       "      <td>0.000000</td>\n",
       "      <td>6.42</td>\n",
       "      <td>12.730848</td>\n",
       "      <td>0.47</td>\n",
       "      <td>1</td>\n",
       "      <td>1</td>\n",
       "      <td>0.027701</td>\n",
       "    </tr>\n",
       "  </tbody>\n",
       "</table>\n",
       "<p>4518 rows × 13 columns</p>\n",
       "</div>"
      ],
      "text/plain": [
       "       elevation_th  warnreg      VW  wind_trans24  wind_trans24_3d     HN24  \\\n",
       "15654        2400.0       19  3.9625    118.136375           154.77  0.00000   \n",
       "13625        2200.0       19  1.2000      0.876000             5.14  0.00000   \n",
       "26939        2000.0       20  2.0125      0.000000             0.00  0.00000   \n",
       "2201         1800.0       15  2.1125      0.000000            34.30  0.00000   \n",
       "13529        1500.0       19  2.4375      0.000000             2.71  0.00000   \n",
       "...             ...      ...     ...           ...              ...      ...   \n",
       "1350         1500.0       15  1.2625      0.000000             0.00  0.00000   \n",
       "13989        2000.0       19  0.7625      0.000000            29.18  0.00000   \n",
       "16113        2200.0       19  7.1625      1.483000            21.22  0.98750   \n",
       "17542        1900.0       19  1.6000     26.253500           126.86  6.07275   \n",
       "28985        2000.0       21  1.6375      0.000000             0.00  0.00000   \n",
       "\n",
       "         HN72_24  HN24_7d  Pen_depth  min_ccl_pen  y_pred  y_real    y_prob  \n",
       "15654   0.626250    17.33  18.935396         0.42       3       3  0.111111  \n",
       "13625   8.543750    23.75  19.260345         0.36       2       2  0.743738  \n",
       "26939   0.000000     0.00   7.950065         1.60       1       1  0.002157  \n",
       "2201   11.328000    24.48  19.281109         0.26       2       2  0.573529  \n",
       "13529   0.000000     6.59  16.479940         0.45       1       1  0.000000  \n",
       "...          ...      ...        ...          ...     ...     ...       ...  \n",
       "1350    0.000000     1.00  15.828622         0.29       1       1  0.000000  \n",
       "13989  31.557625    66.27  19.954292         0.37       2       2  0.466667  \n",
       "16113   7.041750    30.43  17.005411         0.37       3       2  0.185185  \n",
       "17542  35.517625    65.53  28.729350         0.15       3       4  0.044444  \n",
       "28985   0.000000     6.42  12.730848         0.47       1       1  0.027701  \n",
       "\n",
       "[4518 rows x 13 columns]"
      ]
     },
     "execution_count": 51,
     "metadata": {},
     "output_type": "execute_result"
    }
   ],
   "source": [
    "test_results = X_test2.copy()\n",
    "test_results['y_pred'] = dt.predict(X_test2)\n",
    "test_results['y_real'] = y_test\n",
    "test_results['y_prob'] = dt.predict_proba(X_test2)[:,1]\n",
    "\n",
    "test_results"
   ]
  },
  {
   "cell_type": "code",
   "execution_count": 52,
   "id": "af374ef2-a77f-4e9e-a3aa-98fb4332327f",
   "metadata": {
    "tags": []
   },
   "outputs": [
    {
     "name": "stdout",
     "output_type": "stream",
     "text": [
      "Accuracy:0.7926073483842409\n",
      "Precision:0.7013558228973341\n",
      "Recall:0.6973709834469328\n",
      "F1:0.6879395997004338\n"
     ]
    }
   ],
   "source": [
    "test_scores = apr(test_results['y_pred'], test_results['y_real'])"
   ]
  },
  {
   "cell_type": "code",
   "execution_count": 53,
   "id": "aa6a500e-56f7-46a0-a883-741948b6ffb8",
   "metadata": {
    "tags": []
   },
   "outputs": [
    {
     "name": "stdout",
     "output_type": "stream",
     "text": [
      "Score on training set: 0.829747220532109\n",
      "Score on testing set: 0.7926073483842409\n"
     ]
    }
   ],
   "source": [
    "print(f'Score on training set: {dt.score(X_train2, y_train)}')\n",
    "print(f'Score on testing set: {dt.score(X_test2, y_test)}')"
   ]
  },
  {
   "cell_type": "code",
   "execution_count": 44,
   "id": "e4fae1c9-eb94-403e-98cb-c391f8384566",
   "metadata": {
    "tags": []
   },
   "outputs": [
    {
     "data": {
      "image/png": "[encoded data removed]",
      "text/plain": [
       "<Figure size 1500x900 with 2 Axes>"
      ]
     },
     "metadata": {},
     "output_type": "display_data"
    }
   ],
   "source": [
    "plt.figure(figsize=(15,9))\n",
    "sns.heatmap(X_train2.corr(numeric_only=True), annot=True, cmap='rocket_r')\n",
    "plt.show()"
   ]
  },
  {
   "cell_type": "markdown",
   "id": "7b6fbca7-c8f4-45ba-9f9e-121173d617cd",
   "metadata": {},
   "source": [
    "# 2.Random Forest Fitting"
   ]
  },
  {
   "cell_type": "code",
   "execution_count": null,
   "id": "2de4792e-2fef-4d7c-8e10-0da75c24282d",
   "metadata": {},
   "outputs": [],
   "source": [
    "rfc = RandomForestClassifier()\n",
    "rfc.fit(X_train2, y_train)"
   ]
  },
  {
   "cell_type": "code",
   "execution_count": 46,
   "id": "bfb8004b-8d53-4a9b-bb35-ecc38db908eb",
   "metadata": {
    "tags": []
   },
   "outputs": [],
   "source": [
    "train_results = X_train.copy()\n",
    "train_results['y_pred'] = rfc.predict(X_train2)\n",
    "train_results['y_real'] = y_train\n",
    "train_results['y_prob'] = rfc.predict_proba(X_train2)[:,1]"
   ]
  },
  {
   "cell_type": "code",
   "execution_count": 47,
   "id": "4d8a376c-eeef-4d60-aff7-41af1f3e8ba3",
   "metadata": {
    "tags": []
   },
   "outputs": [
    {
     "name": "stdout",
     "output_type": "stream",
     "text": [
      "Accuracy:1.0\n",
      "Precision:1.0\n",
      "Recall:1.0\n",
      "F1:1.0\n"
     ]
    }
   ],
   "source": [
    "train_scores = apr(train_results['y_pred'], train_results['y_real'])"
   ]
  },
  {
   "cell_type": "code",
   "execution_count": 48,
   "id": "1b0ee70c-ac80-4e18-9487-d4b928f8b27c",
   "metadata": {
    "tags": []
   },
   "outputs": [
    {
     "data": {
      "text/html": [
       "<div>\n",
       "<style scoped>\n",
       "    .dataframe tbody tr th:only-of-type {\n",
       "        vertical-align: middle;\n",
       "    }\n",
       "\n",
       "    .dataframe tbody tr th {\n",
       "        vertical-align: top;\n",
       "    }\n",
       "\n",
       "    .dataframe thead th {\n",
       "        text-align: right;\n",
       "    }\n",
       "</style>\n",
       "<table border=\"1\" class=\"dataframe\">\n",
       "  <thead>\n",
       "    <tr style=\"text-align: right;\">\n",
       "      <th></th>\n",
       "      <th>sector_id</th>\n",
       "      <th>elevation_th</th>\n",
       "      <th>warnreg</th>\n",
       "      <th>OSWR</th>\n",
       "      <th>Qw</th>\n",
       "      <th>ISWR_diff</th>\n",
       "      <th>TA</th>\n",
       "      <th>VW_drift</th>\n",
       "      <th>wind_trans24_3d</th>\n",
       "      <th>HN24</th>\n",
       "      <th>HN72_24</th>\n",
       "      <th>HN24_7d</th>\n",
       "      <th>SWE</th>\n",
       "      <th>TS2</th>\n",
       "      <th>Pen_depth</th>\n",
       "      <th>y_pred</th>\n",
       "      <th>y_real</th>\n",
       "      <th>y_prob</th>\n",
       "    </tr>\n",
       "  </thead>\n",
       "  <tbody>\n",
       "    <tr>\n",
       "      <th>15654</th>\n",
       "      <td>4211</td>\n",
       "      <td>2400.0</td>\n",
       "      <td>19</td>\n",
       "      <td>179.500</td>\n",
       "      <td>28.384000</td>\n",
       "      <td>34.745000</td>\n",
       "      <td>-7.1000</td>\n",
       "      <td>15.204000</td>\n",
       "      <td>154.77</td>\n",
       "      <td>0.00000</td>\n",
       "      <td>0.626250</td>\n",
       "      <td>17.33</td>\n",
       "      <td>570.676375</td>\n",
       "      <td>-5.4625</td>\n",
       "      <td>18.935396</td>\n",
       "      <td>3</td>\n",
       "      <td>3</td>\n",
       "      <td>0.43</td>\n",
       "    </tr>\n",
       "    <tr>\n",
       "      <th>13625</th>\n",
       "      <td>4124</td>\n",
       "      <td>2200.0</td>\n",
       "      <td>19</td>\n",
       "      <td>203.250</td>\n",
       "      <td>31.236750</td>\n",
       "      <td>36.378000</td>\n",
       "      <td>-7.8125</td>\n",
       "      <td>2.789625</td>\n",
       "      <td>5.14</td>\n",
       "      <td>0.00000</td>\n",
       "      <td>8.543750</td>\n",
       "      <td>23.75</td>\n",
       "      <td>590.127750</td>\n",
       "      <td>-3.3125</td>\n",
       "      <td>19.260345</td>\n",
       "      <td>2</td>\n",
       "      <td>2</td>\n",
       "      <td>0.90</td>\n",
       "    </tr>\n",
       "    <tr>\n",
       "      <th>26939</th>\n",
       "      <td>4222</td>\n",
       "      <td>2000.0</td>\n",
       "      <td>20</td>\n",
       "      <td>242.125</td>\n",
       "      <td>120.519875</td>\n",
       "      <td>63.524000</td>\n",
       "      <td>1.1625</td>\n",
       "      <td>2.357500</td>\n",
       "      <td>0.00</td>\n",
       "      <td>0.00000</td>\n",
       "      <td>0.000000</td>\n",
       "      <td>0.00</td>\n",
       "      <td>685.210625</td>\n",
       "      <td>0.0000</td>\n",
       "      <td>7.950065</td>\n",
       "      <td>1</td>\n",
       "      <td>1</td>\n",
       "      <td>0.00</td>\n",
       "    </tr>\n",
       "    <tr>\n",
       "      <th>2201</th>\n",
       "      <td>7114</td>\n",
       "      <td>1800.0</td>\n",
       "      <td>15</td>\n",
       "      <td>95.500</td>\n",
       "      <td>20.247375</td>\n",
       "      <td>19.826250</td>\n",
       "      <td>-7.4875</td>\n",
       "      <td>5.080000</td>\n",
       "      <td>34.30</td>\n",
       "      <td>0.00000</td>\n",
       "      <td>11.328000</td>\n",
       "      <td>24.48</td>\n",
       "      <td>156.941500</td>\n",
       "      <td>-10.0750</td>\n",
       "      <td>19.281109</td>\n",
       "      <td>3</td>\n",
       "      <td>2</td>\n",
       "      <td>0.40</td>\n",
       "    </tr>\n",
       "    <tr>\n",
       "      <th>13529</th>\n",
       "      <td>7123</td>\n",
       "      <td>1500.0</td>\n",
       "      <td>19</td>\n",
       "      <td>135.875</td>\n",
       "      <td>25.249125</td>\n",
       "      <td>43.287750</td>\n",
       "      <td>-6.8875</td>\n",
       "      <td>5.937500</td>\n",
       "      <td>2.71</td>\n",
       "      <td>0.00000</td>\n",
       "      <td>0.000000</td>\n",
       "      <td>6.59</td>\n",
       "      <td>301.106500</td>\n",
       "      <td>-6.6625</td>\n",
       "      <td>16.479940</td>\n",
       "      <td>1</td>\n",
       "      <td>1</td>\n",
       "      <td>0.03</td>\n",
       "    </tr>\n",
       "    <tr>\n",
       "      <th>...</th>\n",
       "      <td>...</td>\n",
       "      <td>...</td>\n",
       "      <td>...</td>\n",
       "      <td>...</td>\n",
       "      <td>...</td>\n",
       "      <td>...</td>\n",
       "      <td>...</td>\n",
       "      <td>...</td>\n",
       "      <td>...</td>\n",
       "      <td>...</td>\n",
       "      <td>...</td>\n",
       "      <td>...</td>\n",
       "      <td>...</td>\n",
       "      <td>...</td>\n",
       "      <td>...</td>\n",
       "      <td>...</td>\n",
       "      <td>...</td>\n",
       "      <td>...</td>\n",
       "    </tr>\n",
       "    <tr>\n",
       "      <th>1350</th>\n",
       "      <td>4124</td>\n",
       "      <td>1500.0</td>\n",
       "      <td>15</td>\n",
       "      <td>80.125</td>\n",
       "      <td>10.367500</td>\n",
       "      <td>17.274250</td>\n",
       "      <td>-6.2125</td>\n",
       "      <td>2.773500</td>\n",
       "      <td>0.00</td>\n",
       "      <td>0.00000</td>\n",
       "      <td>0.000000</td>\n",
       "      <td>1.00</td>\n",
       "      <td>210.214625</td>\n",
       "      <td>-10.5625</td>\n",
       "      <td>15.828622</td>\n",
       "      <td>1</td>\n",
       "      <td>1</td>\n",
       "      <td>0.01</td>\n",
       "    </tr>\n",
       "    <tr>\n",
       "      <th>13989</th>\n",
       "      <td>1312</td>\n",
       "      <td>2000.0</td>\n",
       "      <td>19</td>\n",
       "      <td>161.500</td>\n",
       "      <td>19.400125</td>\n",
       "      <td>90.401500</td>\n",
       "      <td>-5.4375</td>\n",
       "      <td>2.073500</td>\n",
       "      <td>29.18</td>\n",
       "      <td>0.00000</td>\n",
       "      <td>31.557625</td>\n",
       "      <td>66.27</td>\n",
       "      <td>396.605000</td>\n",
       "      <td>-4.6125</td>\n",
       "      <td>19.954292</td>\n",
       "      <td>3</td>\n",
       "      <td>2</td>\n",
       "      <td>0.37</td>\n",
       "    </tr>\n",
       "    <tr>\n",
       "      <th>16113</th>\n",
       "      <td>4232</td>\n",
       "      <td>2200.0</td>\n",
       "      <td>19</td>\n",
       "      <td>81.000</td>\n",
       "      <td>19.850000</td>\n",
       "      <td>27.651375</td>\n",
       "      <td>-1.8250</td>\n",
       "      <td>2.722500</td>\n",
       "      <td>21.22</td>\n",
       "      <td>0.98750</td>\n",
       "      <td>7.041750</td>\n",
       "      <td>30.43</td>\n",
       "      <td>1250.965750</td>\n",
       "      <td>-4.0000</td>\n",
       "      <td>17.005411</td>\n",
       "      <td>2</td>\n",
       "      <td>2</td>\n",
       "      <td>0.73</td>\n",
       "    </tr>\n",
       "    <tr>\n",
       "      <th>17542</th>\n",
       "      <td>4222</td>\n",
       "      <td>1900.0</td>\n",
       "      <td>19</td>\n",
       "      <td>69.375</td>\n",
       "      <td>7.708250</td>\n",
       "      <td>30.414625</td>\n",
       "      <td>-12.0875</td>\n",
       "      <td>4.036375</td>\n",
       "      <td>126.86</td>\n",
       "      <td>6.07275</td>\n",
       "      <td>35.517625</td>\n",
       "      <td>65.53</td>\n",
       "      <td>184.886375</td>\n",
       "      <td>-14.4625</td>\n",
       "      <td>28.729350</td>\n",
       "      <td>3</td>\n",
       "      <td>4</td>\n",
       "      <td>0.01</td>\n",
       "    </tr>\n",
       "    <tr>\n",
       "      <th>28985</th>\n",
       "      <td>4222</td>\n",
       "      <td>2000.0</td>\n",
       "      <td>21</td>\n",
       "      <td>245.000</td>\n",
       "      <td>84.087125</td>\n",
       "      <td>48.509875</td>\n",
       "      <td>-1.8875</td>\n",
       "      <td>1.915875</td>\n",
       "      <td>0.00</td>\n",
       "      <td>0.00000</td>\n",
       "      <td>0.000000</td>\n",
       "      <td>6.42</td>\n",
       "      <td>1065.043375</td>\n",
       "      <td>-2.6875</td>\n",
       "      <td>12.730848</td>\n",
       "      <td>1</td>\n",
       "      <td>1</td>\n",
       "      <td>0.05</td>\n",
       "    </tr>\n",
       "  </tbody>\n",
       "</table>\n",
       "<p>4518 rows × 18 columns</p>\n",
       "</div>"
      ],
      "text/plain": [
       "       sector_id  elevation_th  warnreg     OSWR          Qw  ISWR_diff  \\\n",
       "15654       4211        2400.0       19  179.500   28.384000  34.745000   \n",
       "13625       4124        2200.0       19  203.250   31.236750  36.378000   \n",
       "26939       4222        2000.0       20  242.125  120.519875  63.524000   \n",
       "2201        7114        1800.0       15   95.500   20.247375  19.826250   \n",
       "13529       7123        1500.0       19  135.875   25.249125  43.287750   \n",
       "...          ...           ...      ...      ...         ...        ...   \n",
       "1350        4124        1500.0       15   80.125   10.367500  17.274250   \n",
       "13989       1312        2000.0       19  161.500   19.400125  90.401500   \n",
       "16113       4232        2200.0       19   81.000   19.850000  27.651375   \n",
       "17542       4222        1900.0       19   69.375    7.708250  30.414625   \n",
       "28985       4222        2000.0       21  245.000   84.087125  48.509875   \n",
       "\n",
       "            TA   VW_drift  wind_trans24_3d     HN24    HN72_24  HN24_7d  \\\n",
       "15654  -7.1000  15.204000           154.77  0.00000   0.626250    17.33   \n",
       "13625  -7.8125   2.789625             5.14  0.00000   8.543750    23.75   \n",
       "26939   1.1625   2.357500             0.00  0.00000   0.000000     0.00   \n",
       "2201   -7.4875   5.080000            34.30  0.00000  11.328000    24.48   \n",
       "13529  -6.8875   5.937500             2.71  0.00000   0.000000     6.59   \n",
       "...        ...        ...              ...      ...        ...      ...   \n",
       "1350   -6.2125   2.773500             0.00  0.00000   0.000000     1.00   \n",
       "13989  -5.4375   2.073500            29.18  0.00000  31.557625    66.27   \n",
       "16113  -1.8250   2.722500            21.22  0.98750   7.041750    30.43   \n",
       "17542 -12.0875   4.036375           126.86  6.07275  35.517625    65.53   \n",
       "28985  -1.8875   1.915875             0.00  0.00000   0.000000     6.42   \n",
       "\n",
       "               SWE      TS2  Pen_depth  y_pred  y_real  y_prob  \n",
       "15654   570.676375  -5.4625  18.935396       3       3    0.43  \n",
       "13625   590.127750  -3.3125  19.260345       2       2    0.90  \n",
       "26939   685.210625   0.0000   7.950065       1       1    0.00  \n",
       "2201    156.941500 -10.0750  19.281109       3       2    0.40  \n",
       "13529   301.106500  -6.6625  16.479940       1       1    0.03  \n",
       "...            ...      ...        ...     ...     ...     ...  \n",
       "1350    210.214625 -10.5625  15.828622       1       1    0.01  \n",
       "13989   396.605000  -4.6125  19.954292       3       2    0.37  \n",
       "16113  1250.965750  -4.0000  17.005411       2       2    0.73  \n",
       "17542   184.886375 -14.4625  28.729350       3       4    0.01  \n",
       "28985  1065.043375  -2.6875  12.730848       1       1    0.05  \n",
       "\n",
       "[4518 rows x 18 columns]"
      ]
     },
     "execution_count": 48,
     "metadata": {},
     "output_type": "execute_result"
    }
   ],
   "source": [
    "test_results = X_test2.copy()\n",
    "test_results['y_pred'] = rfc.predict(X_test2)\n",
    "test_results['y_real'] = y_test\n",
    "test_results['y_prob'] = rfc.predict_proba(X_test2)[:,1]\n",
    "\n",
    "test_results"
   ]
  },
  {
   "cell_type": "code",
   "execution_count": 49,
   "id": "96cbd7ab-418e-4746-a7f6-5977eb432ec2",
   "metadata": {
    "tags": []
   },
   "outputs": [
    {
     "name": "stdout",
     "output_type": "stream",
     "text": [
      "Accuracy:0.8490482514386897\n",
      "Precision:0.7773525145598843\n",
      "Recall:0.7762039660056658\n",
      "F1:0.7648841083971479\n"
     ]
    }
   ],
   "source": [
    "test_scores = apr(test_results['y_pred'], test_results['y_real'])"
   ]
  },
  {
   "cell_type": "markdown",
   "id": "fc20cee3-c43c-4912-a8d8-fa66cb717ab4",
   "metadata": {},
   "source": [
    "As expected the results were extremely overfit, producing little valuable information. "
   ]
  },
  {
   "cell_type": "markdown",
   "id": "9efafcee-d744-4127-bf2c-4f5c97fcbba8",
   "metadata": {},
   "source": [
    "# 3.Logistic Regression Analysis"
   ]
  },
  {
   "cell_type": "code",
   "execution_count": 50,
   "id": "1942d199-c867-472e-a9b2-97edc4acbefe",
   "metadata": {
    "tags": []
   },
   "outputs": [],
   "source": [
    "feature_cols = list(df.columns)\n",
    "feature_cols.remove('dangerLevel')"
   ]
  },
  {
   "cell_type": "code",
   "execution_count": 51,
   "id": "73757f8c-d49b-4039-841d-1cca4d6f32d2",
   "metadata": {
    "tags": []
   },
   "outputs": [],
   "source": [
    "bad_columns = ['zS5','zS4','zSd_mean','sector_id','elevation_station','MS_Evap','MS_Sublimation',\n",
    "              'MS_SN_Runoff', 'MS_Rain',\n",
    "              'Qr','zSn','ISWR',\n",
    "              'zSs',\n",
    "              'min_ccl_pen', 'ILWR','sk38_pwl','ccl_pwl_100','sn38_pwl']\n",
    "feature_cols = [col for col in feature_cols if col not in bad_columns]"
   ]
  },
  {
   "cell_type": "code",
   "execution_count": 52,
   "id": "e62eb12f-ad06-43ea-8044-9ed56b65eef1",
   "metadata": {
    "tags": []
   },
   "outputs": [],
   "source": [
    "X = df[feature_cols]\n",
    "y = df['dangerLevel']"
   ]
  },
  {
   "cell_type": "code",
   "execution_count": 53,
   "id": "fa2aa677-1439-4005-99e2-e67574efe70f",
   "metadata": {
    "tags": []
   },
   "outputs": [],
   "source": [
    "X_train, X_test, y_train, y_test = train_test_split(X, y, test_size = 0.2, random_state = 42)"
   ]
  },
  {
   "cell_type": "code",
   "execution_count": 54,
   "id": "019dafac-10b7-46f2-8e83-1f24e727d868",
   "metadata": {
    "tags": []
   },
   "outputs": [],
   "source": [
    "train = X_train"
   ]
  },
  {
   "cell_type": "code",
   "execution_count": 55,
   "id": "27c5406e-3d3e-40a3-a348-04dc1de468b5",
   "metadata": {
    "tags": []
   },
   "outputs": [],
   "source": [
    "train = pd.concat([X_train, y_train], axis=1)"
   ]
  },
  {
   "cell_type": "code",
   "execution_count": 56,
   "id": "6fcbdb7a-27b2-4280-9c36-029d6d00967a",
   "metadata": {
    "tags": []
   },
   "outputs": [],
   "source": [
    "train.rename(columns={'Unnamed: 0': 'ID'}, inplace=True)"
   ]
  },
  {
   "cell_type": "code",
   "execution_count": 57,
   "id": "69d21057-14cc-4e25-b893-4e5c3cf1199f",
   "metadata": {
    "tags": []
   },
   "outputs": [],
   "source": [
    "train.dropna(inplace=True)"
   ]
  },
  {
   "cell_type": "code",
   "execution_count": 58,
   "id": "2f84004f-91bf-4e27-bdb5-cfdf35086065",
   "metadata": {
    "tags": []
   },
   "outputs": [],
   "source": [
    "X_train = train.drop(columns = ['ID','datum','station_code','dangerLevel'])"
   ]
  },
  {
   "cell_type": "code",
   "execution_count": 59,
   "id": "d77a1189-461f-4bf0-b295-eb073ab32e1b",
   "metadata": {
    "tags": []
   },
   "outputs": [],
   "source": [
    "feature_cols = list(X_train.columns)"
   ]
  },
  {
   "cell_type": "code",
   "execution_count": 60,
   "id": "07aa3ae0-c2fe-4c1c-94a9-8c13c8c57f8a",
   "metadata": {
    "tags": []
   },
   "outputs": [],
   "source": [
    "y_train = train['dangerLevel']"
   ]
  },
  {
   "cell_type": "code",
   "execution_count": 61,
   "id": "a3583649-3554-4f76-83dc-8fb41720bee2",
   "metadata": {
    "tags": []
   },
   "outputs": [],
   "source": [
    "lr = LogisticRegression(multi_class='multinomial', solver='lbfgs', max_iter = 100000000)"
   ]
  },
  {
   "cell_type": "code",
   "execution_count": null,
   "id": "29a6a7c2-0561-4122-82c4-a45e37812c94",
   "metadata": {
    "tags": []
   },
   "outputs": [],
   "source": [
    "lr.fit(X_train, y_train)"
   ]
  },
  {
   "cell_type": "code",
   "execution_count": 63,
   "id": "189e182c-4794-4c88-bdb5-c5a940da8b1c",
   "metadata": {
    "tags": []
   },
   "outputs": [
    {
     "data": {
      "text/plain": [
       "array([[9.42185395e-01, 4.77077013e-02, 9.79071830e-03, 3.16181534e-04,\n",
       "        4.22837872e-09],\n",
       "       [2.02891504e-06, 6.27259541e-01, 3.59077885e-01, 1.36603710e-02,\n",
       "        1.74608982e-07],\n",
       "       [1.33374014e-04, 7.63227237e-01, 2.33750004e-01, 2.88913223e-03,\n",
       "        2.52190630e-07],\n",
       "       ...,\n",
       "       [9.99660681e-01, 3.08437196e-04, 2.79432760e-05, 2.93844617e-06,\n",
       "        8.02114987e-17],\n",
       "       [9.99490474e-01, 4.82949740e-04, 2.62868387e-05, 2.89028848e-07,\n",
       "        5.52968732e-16],\n",
       "       [6.27114115e-02, 8.56053557e-01, 8.08027596e-02, 4.31031923e-04,\n",
       "        1.24021704e-06]])"
      ]
     },
     "execution_count": 63,
     "metadata": {},
     "output_type": "execute_result"
    }
   ],
   "source": [
    "lr.predict_proba(X_train)"
   ]
  },
  {
   "cell_type": "code",
   "execution_count": 64,
   "id": "54b3a973-abfa-4d39-88aa-73616af1121d",
   "metadata": {
    "tags": []
   },
   "outputs": [],
   "source": [
    "X_train[['prob_1', 'prob_2', 'prob_3','prob_4','prob_5']] = lr.predict_proba(X_train)"
   ]
  },
  {
   "cell_type": "code",
   "execution_count": 65,
   "id": "fe882791-186d-411a-b9ae-31212902171b",
   "metadata": {
    "tags": []
   },
   "outputs": [],
   "source": [
    "X_train['y_pred'] =  np.where(X_train['prob_5'] > 0.01, 5,\n",
    "                               np.where(X_train['prob_4'] > 0.3, 4,\n",
    "                                        np.where(X_train['prob_3'] > 0.5, 3, \n",
    "                                                np.where(X_train['prob_2'] > 0.6, 2,\n",
    "                                                         np.where(X_train['prob_1'] > 0.4, 1,3)))))"
   ]
  },
  {
   "cell_type": "code",
   "execution_count": 66,
   "id": "3e71f7e9-847b-485b-afc4-6396643198c7",
   "metadata": {
    "tags": []
   },
   "outputs": [],
   "source": [
    "highest_prob_column = X_train[['prob_1', 'prob_2', 'prob_3', 'prob_4', 'prob_5']].idxmax(axis=1)"
   ]
  },
  {
   "cell_type": "code",
   "execution_count": 67,
   "id": "ace14e17-6fc1-40ea-818d-da171dcc086c",
   "metadata": {
    "tags": []
   },
   "outputs": [
    {
     "data": {
      "text/plain": [
       "9293     prob_1\n",
       "8819     prob_2\n",
       "10505    prob_2\n",
       "7671     prob_1\n",
       "2361     prob_1\n",
       "          ...  \n",
       "21575    prob_1\n",
       "5390     prob_3\n",
       "860      prob_1\n",
       "15795    prob_1\n",
       "23654    prob_2\n",
       "Length: 18084, dtype: object"
      ]
     },
     "execution_count": 67,
     "metadata": {},
     "output_type": "execute_result"
    }
   ],
   "source": [
    "highest_prob_column"
   ]
  },
  {
   "cell_type": "code",
   "execution_count": 68,
   "id": "3616f9bd-d92f-46d7-86c9-25f84d0e382c",
   "metadata": {
    "tags": []
   },
   "outputs": [],
   "source": [
    "values = [1, 2, 3, 4, 5]"
   ]
  },
  {
   "cell_type": "code",
   "execution_count": 69,
   "id": "991fa8dc-338c-411f-bc54-77368f846270",
   "metadata": {
    "tags": []
   },
   "outputs": [],
   "source": [
    "X_train['y_pred'] = np.select([highest_prob_column == 'prob_1', \n",
    "                                highest_prob_column == 'prob_2', \n",
    "                                highest_prob_column == 'prob_3', \n",
    "                                highest_prob_column == 'prob_4', \n",
    "                                highest_prob_column == 'prob_5'], \n",
    "                               values, \n",
    "                               default=3)"
   ]
  },
  {
   "cell_type": "code",
   "execution_count": 70,
   "id": "a67db06d-989a-4a10-abdc-600583ecf6fc",
   "metadata": {
    "tags": []
   },
   "outputs": [
    {
     "name": "stdout",
     "output_type": "stream",
     "text": [
      "[[5347  167   23    0    0]\n",
      " [ 238 4520  970    2    0]\n",
      " [  55 1280 4537  116    1]\n",
      " [   3   27  525  212   10]\n",
      " [   0    0   16    5   30]]\n"
     ]
    }
   ],
   "source": [
    "print(metrics.confusion_matrix(y_train, X_train['y_pred']))"
   ]
  },
  {
   "cell_type": "code",
   "execution_count": 71,
   "id": "0227b37d-e559-472f-b204-a3dba343a104",
   "metadata": {
    "tags": []
   },
   "outputs": [
    {
     "data": {
      "text/plain": [
       "y_pred\n",
       "3    6071\n",
       "2    5994\n",
       "1    5643\n",
       "4     335\n",
       "5      41\n",
       "Name: count, dtype: int64"
      ]
     },
     "execution_count": 71,
     "metadata": {},
     "output_type": "execute_result"
    }
   ],
   "source": [
    "X_train['y_pred'].value_counts()"
   ]
  },
  {
   "cell_type": "code",
   "execution_count": 72,
   "id": "63bf4a17-d898-4e92-b2e6-d7cd3e038f35",
   "metadata": {
    "tags": []
   },
   "outputs": [],
   "source": [
    "def get_results(actual, predicted):\n",
    "    print(\"The confusion matrix for your predictions is:\")\n",
    "    print(metrics.confusion_matrix(actual, predicted), \"\\n\")\n",
    "    print(f\"The accuracy of your model is: {metrics.accuracy_score(actual, predicted)}\")\n",
    "    print(f\"The recall of your model is: {metrics.recall_score(actual, predicted,average='macro')}\")\n",
    "    print(f\"The precision of your model is: {metrics.precision_score(actual, predicted,average='macro')}\")\n",
    "    print(f\"The F1-score of your model is: {metrics.f1_score(actual, predicted,average='macro')}\")"
   ]
  },
  {
   "cell_type": "code",
   "execution_count": 73,
   "id": "80e7b2f1-129d-4c9c-8007-ce36a8534217",
   "metadata": {
    "tags": []
   },
   "outputs": [
    {
     "name": "stdout",
     "output_type": "stream",
     "text": [
      "The confusion matrix for your predictions is:\n",
      "[[5347  167   23    0    0]\n",
      " [ 238 4520  970    2    0]\n",
      " [  55 1280 4537  116    1]\n",
      " [   3   27  525  212   10]\n",
      " [   0    0   16    5   30]] \n",
      "\n",
      "The accuracy of your model is: 0.8098871930988719\n",
      "The recall of your model is: 0.6746302380289253\n",
      "The precision of your model is: 0.7626999061900062\n",
      "The F1-score of your model is: 0.7026941864865437\n"
     ]
    }
   ],
   "source": [
    "get_results(y_train, X_train['y_pred'])"
   ]
  }
 ],
 "metadata": {
  "kernelspec": {
   "display_name": "Python 3 (ipykernel)",
   "language": "python",
   "name": "python3"
  },
  "language_info": {
   "codemirror_mode": {
    "name": "ipython",
    "version": 3
   },
   "file_extension": ".py",
   "mimetype": "text/x-python",
   "name": "python",
   "nbconvert_exporter": "python",
   "pygments_lexer": "ipython3",
   "version": "3.11.5"
  }
 },
 "nbformat": 4,
 "nbformat_minor": 5
}
